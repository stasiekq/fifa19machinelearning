{
 "cells": [
  {
   "cell_type": "markdown",
   "id": "cd9cad9b",
   "metadata": {},
   "source": [
    "## Temat projektu:\n",
    "\n",
    "\n",
    "Określanie pozycji na której powinien grać piłkarz na podstawie jego cech  z wykorzystaniem poznanych narzędzi oraz w środowisku MS Azure. \n",
    "\n",
    "\n",
    "## Autorzy: \n",
    "\n",
    "Stanisław Frączkowski \n",
    "\n",
    "Jan Zubalewicz \n",
    "\n",
    "Kamil Bilski"
   ]
  },
  {
   "cell_type": "markdown",
   "id": "102d7787",
   "metadata": {},
   "source": [
    "## Cel projektu:"
   ]
  },
  {
   "cell_type": "markdown",
   "id": "6e3fd0f1",
   "metadata": {},
   "source": [
    " \n",
    "Celem projektu jest określenie pozycji na której powinien grać dany piłkarz na podstawie jego statystyk. Dane do projektu zostały wzięte z gry piłkarskiej FIFA 19."
   ]
  },
  {
   "cell_type": "code",
   "execution_count": 1,
   "id": "c39b8403",
   "metadata": {},
   "outputs": [],
   "source": [
    "import numpy as np\n",
    "import pandas as pd\n",
    "import seaborn as sns\n",
    "import matplotlib.pyplot as plt\n",
    "from sklearn.neighbors import KNeighborsClassifier\n",
    "from sklearn.model_selection import train_test_split\n",
    "from sklearn import metrics\n",
    "\n",
    "import numpy as np"
   ]
  },
  {
   "cell_type": "code",
   "execution_count": 2,
   "id": "3caae5ea",
   "metadata": {},
   "outputs": [
    {
     "name": "stdout",
     "output_type": "stream",
     "text": [
      "liczba obiektów: 13633\n",
      "liczba atrybutow: 13\n",
      "liczba klas: 14\n",
      "Obiektów w klasie: \n",
      "CAM  :  872\n",
      "ST  :  2167\n",
      "CF  :  107\n",
      "LW  :  313\n",
      "CB  :  2650\n",
      "CM  :  1820\n",
      "RW  :  295\n",
      "RB  :  1117\n",
      "LM  :  911\n",
      "LB  :  1135\n",
      "CDM  :  1224\n",
      "RM  :  933\n",
      "RWB  :  45\n",
      "LWB  :  44\n",
      "brakujące: 0\n"
     ]
    }
   ],
   "source": [
    "df = pd.read_csv('https://raw.githubusercontent.com/kafagy/fifa-FUT-Data/master/FIFA19.csv')\n",
    "\n",
    "# liczba obiektów\n",
    "liczba_obiektow = df.shape[0]\n",
    "print(\"liczba obiektów:\", liczba_obiektow)\n",
    "\n",
    "#liczba atrybutow\n",
    "liczba_atrybutow = df.shape[1]\n",
    "print(\"liczba atrybutow:\", liczba_atrybutow)\n",
    "\n",
    "# liczba klas\n",
    "print(\"liczba klas:\", len(df['POSITION'].unique()))\n",
    "\n",
    "# liczba obiektów w każdej klasie\n",
    "print(\"Obiektów w klasie: \")\n",
    "for i in list(df['POSITION'].unique()):\n",
    "    print(i , ' : ', len(df[df['POSITION'] == i]))\n",
    "\n",
    "# liczba danych brakujących\n",
    "print(\"brakujące:\", df.isnull().sum().sum())\n",
    "\n",
    "# usunięcie danych brakujących\n",
    "df = df.dropna()\n"
   ]
  },
  {
   "cell_type": "markdown",
   "id": "851e4ff6",
   "metadata": {},
   "source": [
    "## Analiza eksploracyjna:"
   ]
  },
  {
   "cell_type": "markdown",
   "id": "19d7fe0f",
   "metadata": {},
   "source": [
    "Zbiór składa się z 13 atrybutów, oraz z 13633 obiektów.  Każdy obiekt zawiera imię, klub, ligę oraz pozycję piłkarza. Posiada także klasyfikację ze względu na poziom piłkarza(Gold, silver oraz bronze).  Zbiór zawiera także podstawowe statystyki piłkarza(szybkość, strzały, podania, drybling, obrona oraz fizyczność). Statystyki są podane w skali 0-99. Na jej podstawie została także wyliczona ocena ogólna piłkarza(także w skali 0-99). Zbiór posiada także atrybut określający datę i godzinę wstawienia obiektu do zbioru. Najbardziej interesującym atrybutem w kontekście klasyfikacji będzie dla nas pozycja danego piłkarza. Pozycje zostały podzielone na 14 klas(określających pozycję piłkarza na boisku).  \n",
    "\n",
    "Opis atrybutów zbioru danych:  \n",
    "\n",
    "NAME – Imię i nazwisko zawodnika \n",
    "\n",
    "CLUB – aktualny klub zawodnika \n",
    "\n",
    "LEAGUE – liga w której gra aktualny klub zawodnika \n",
    "\n",
    "POSITION – pozycja, na jakiej gra zawodnik (pozycje są opisane niżej) \n",
    "\n",
    "TIER – poziom zawodnika (złoto/srebro/brąz) \n",
    "\n",
    "RATING – ogólna ocena zawodnika, wartość liczbowa 0-99 \n",
    "\n",
    "PACE – szybkość, wartość liczbowa 0-99 \n",
    "\n",
    "SHOOTING – strzały, wartość liczbowa 0-99 \n",
    "\n",
    "PASSING – podania, wartość liczbowa 0-99 \n",
    "\n",
    "DRIBBLING – drybling, wartość liczbowa 0-99 \n",
    "\n",
    "DEFENDING – obrona/defensywa, wartość liczbowa 0-99 \n",
    "\n",
    "PHYSICAL – sprawność fizyczna, wartość liczbowa 0-99 \n",
    "\n",
    "LOADDATE – data załadowania do zbioru danych, nieużywana przez nas \n",
    "\n",
    " \n",
    "\n",
    "Statystyki klas: \n",
    "\n",
    "CAM  :  872, ST  :  2167, CF  :  107, LW  :  313, CB  :  2650, CM  :  1820, RW  :  295, RB  :  1117, \n",
    "\n",
    "LM  :  911, LB  :  1135, CDM  :  1224, RM  :  933, RWB  :  45, LWB  :  44 \n",
    "\n",
    "Opis skrótów pozycji:  \n",
    "\n",
    "ST - napastnik  \n",
    "\n",
    "CB - obrońca centralny  \n",
    "\n",
    "LB - obrońca lewy  \n",
    "\n",
    "RB - obrońca prawy  \n",
    "\n",
    "CDM - defensywny pomocnik  \n",
    "\n",
    "CM - środkowy pomocnik  \n",
    "\n",
    "CAM - ofensywny pomocnik  \n",
    "\n",
    "LM - lewy pomocnik  \n",
    "\n",
    "RM - prawy pomocnik  \n",
    "\n",
    "LW - lewy skrzydłowy  \n",
    "\n",
    "RW - prawy skrzydłowy \n",
    "\n",
    " \n",
    "\n",
    "Zbiór nie zawiera brakujących danych. \n",
    "\n",
    "W celu polepszenia jakości nauczania nadzorowanego musieliśmy odfiltrować ze zbioru danych przypadki skrajne, gdzie jedna ze statystyk znacząco odstaje i przypadki zupełnie przeciętne, w których wyniki w konkretnych polach nie różnią się wystarczająco, by można było znaleźć powiązanie z konkretną pozycją. W przypadkach skrajnych usunęliśmy napastników, którzy mają lepszą obronę niż atak, graczy defensywnych z lepszym atakiem niż obroną. Poza tym, w celu zróżnicowania bazy do nauczania, podzieliliśmy zbiór danych na 3 rozłączne zbiory : \n",
    "\n",
    "Icons – Gracze dodani jako ciekawostka, najlepsi gracze wszech czasów (np. Pele, Diego Maradona itd.) \n",
    "\n",
    "Gold – Gracze z kategorią „Złoto” w rankingu (najlepsi aktualnie grający) \n",
    "\n",
    "Mid – Gracze z kategoriami „Srebro” i „Brąz” w rankingu (pozostali) "
   ]
  },
  {
   "cell_type": "code",
   "execution_count": 3,
   "id": "d36ad9dd",
   "metadata": {},
   "outputs": [],
   "source": [
    "# usuwanie napastników mających lepszą obronę niż atak\n",
    "df = df[(df.POSITION != 'ST') | (df.SHOOTING >= df.DEFENDING)]\n",
    "\n",
    "# obliczenie odchylenia standardowego dla kolumn ze statystykami\n",
    "stats_cols = ['PACE', 'SHOOTING', 'PASSING', 'DRIBBLING', 'DEFENDING', 'PHYSICAL']\n",
    "\n",
    "#usunięcie graczy defensywnych z lepszym atakiem niż defensywą\n",
    "df = df[((df.POSITION != 'CB') & (df.POSITION != 'LB') & (df.POSITION != 'RB') & (df.POSITION != 'CB') & (df.POSITION != 'GK')) | (df.SHOOTING <= df.DEFENDING)]\n",
    "\n"
   ]
  },
  {
   "cell_type": "markdown",
   "id": "d492ce13",
   "metadata": {},
   "source": [
    "## Rozwiązanie problemu: "
   ]
  },
  {
   "cell_type": "markdown",
   "id": "02f9632c",
   "metadata": {},
   "source": [
    "Problem został rozwiązany przy pomocy klasyfikatora k-Najbliższych Sąsiadów. Tworzymy na początku zbiór uczący(używamy 70% danych z projektu) oraz tworzymy model KNN. Został on wybrany z powodu takiego, że dla tej metody klasyfikacja będzie w tym przypadku najlepsza. Metoda najbliższego sąsiada tutaj się nadawałaby, gdyż powodowałaby zbyt dużo błędów. Naiwny klasyfikator Bayesa nie daje możliwości ustalenia ilu sąsiadów mamy wziąć pod uwagę przy klasyfikacji. Zależało nam na tym gdyż dzielimy nasze dane na 3 podgrupy zawierające różną liczbę danych, więc wybór ilości sąsiadów do klasyfikacji daja dużą elastyczność. Metodą prób i błędów dla kart złotych wybraliśmy klasyfikację na podstawie 20 sąsiadów, a dla srebrnych i brązowych 25(zostało to zrobione w ten sposób gdyż kart srebrnych i brązowych jest więcej). Niestety, dla zbioru ikon okazało się, że niektórych danych w klasach jest zbyt mało danych przez co nie byliśmy w stanie przeprowadzić dla tych kart klasyfikacji. Następnie dany model zostaje stestowany.  "
   ]
  },
  {
   "cell_type": "code",
   "execution_count": 4,
   "id": "c5678a63",
   "metadata": {},
   "outputs": [],
   "source": [
    "# Podział na grupy według rankingu\n",
    "df_icons = df[df.LEAGUE == 'Icons']\n",
    "\n",
    "df_gold = df[(df.TIER == 'Gold') & (df.LEAGUE != 'Icons')]\n",
    "\n",
    "df_mid = df[((df.TIER == 'Silver') | (df.TIER == 'Bronze')) & (df.LEAGUE != 'Icons')]\n"
   ]
  },
  {
   "cell_type": "markdown",
   "id": "f749242b",
   "metadata": {},
   "source": [
    "## Wyniki:"
   ]
  },
  {
   "cell_type": "markdown",
   "id": "e75b3655",
   "metadata": {},
   "source": [
    "Po podzieleniu danych na 3 podgrupy, uczymy model, następnie wykonujemy klasyfikację. "
   ]
  },
  {
   "cell_type": "code",
   "execution_count": 5,
   "id": "46219cb7",
   "metadata": {},
   "outputs": [],
   "source": [
    "# Uczenie dla kart złotych\n",
    "X  = df_gold.iloc[:,6:12].values\n",
    "y  = df_gold['POSITION'].values\n",
    "X_train, X_test, y_train, y_test = train_test_split(X, y, test_size = 0.7, stratify=y)"
   ]
  },
  {
   "cell_type": "code",
   "execution_count": 6,
   "id": "9891b739",
   "metadata": {},
   "outputs": [
    {
     "name": "stdout",
     "output_type": "stream",
     "text": [
      "['LM']\n",
      "['CB']\n"
     ]
    }
   ],
   "source": [
    "# stworzenie instancji modelu i wpasowanie tego modelu do danych trenujących\n",
    "knn = KNeighborsClassifier(n_neighbors=20)\n",
    "knn.fit(X_train, y_train)\n",
    "\n",
    "#Przykładowe wywołanie\n",
    "ronaldo = np.array([[90,90,90,90,50,70]])\n",
    "van_dijk = np.array([[60,40,50,60,90,90]])\n",
    "print(knn.predict(ronaldo))\n",
    "print(knn.predict(van_dijk))"
   ]
  },
  {
   "cell_type": "code",
   "execution_count": 7,
   "id": "65ba885d",
   "metadata": {},
   "outputs": [],
   "source": [
    "from sklearn.preprocessing import StandardScaler\n",
    "\n",
    "#Standaryzacja\n",
    "scaler = StandardScaler()\n",
    "scaler.fit(X)\n",
    "X = scaler.transform(X)\n",
    "X_train, X_test, y_train, y_test = train_test_split(X, y, test_size = 0.15)"
   ]
  },
  {
   "cell_type": "markdown",
   "id": "35d4d8be",
   "metadata": {},
   "source": [
    "Szukamy najlepszego modelu klasyfikującego. Iteracyjnie szukamy optymalnego modelu, przechodząc przez 40 sąsiadów "
   ]
  },
  {
   "cell_type": "code",
   "execution_count": 8,
   "id": "418d8652",
   "metadata": {},
   "outputs": [
    {
     "name": "stdout",
     "output_type": "stream",
     "text": [
      "Best acc: 0.21962616822429906\n",
      "Best neig: 32\n"
     ]
    }
   ],
   "source": [
    "# przeprowazdenie piewszego testu dokładności\n",
    "n = 40\n",
    "best_acc = 0\n",
    "\n",
    "for i in range(1, n):\n",
    "    knn = KNeighborsClassifier(n_neighbors=i)\n",
    "    knn.fit(X_train, y_train)\n",
    "    y_pred = knn.predict(X_test)\n",
    "    acc = metrics.accuracy_score(y_test, y_pred)\n",
    "    if acc > best_acc:\n",
    "        best_acc = acc\n",
    "        best_nei = i\n",
    "        \n",
    "        \n",
    "print(\"Best acc:\", best_acc)\n",
    "print(\"Best neig:\", best_nei)"
   ]
  },
  {
   "cell_type": "markdown",
   "id": "648fe82a",
   "metadata": {},
   "source": [
    "Wylicza dokładność naszego modelu dla wszystkich użytych danych i pozycji."
   ]
  },
  {
   "cell_type": "code",
   "execution_count": 9,
   "id": "f5269a49",
   "metadata": {},
   "outputs": [
    {
     "name": "stdout",
     "output_type": "stream",
     "text": [
      "0.16822429906542055\n"
     ]
    }
   ],
   "source": [
    "# przeprowazdenie drugiego testu dokładności \n",
    "from sklearn.metrics import accuracy_score, confusion_matrix\n",
    "\n",
    "y_pred = knn.predict(X_test)\n",
    "print(metrics.accuracy_score(y_test, y_pred))"
   ]
  },
  {
   "cell_type": "markdown",
   "id": "fa26c57d",
   "metadata": {},
   "source": [
    "Wylicza dokładność naszego modelu dla poszczególnych pozcyji oraz wszystkich pozycji. "
   ]
  },
  {
   "cell_type": "code",
   "execution_count": 10,
   "id": "2d9af722",
   "metadata": {},
   "outputs": [
    {
     "name": "stdout",
     "output_type": "stream",
     "text": [
      "              precision    recall  f1-score   support\n",
      "\n",
      "         CAM       0.00      0.00      0.00        19\n",
      "          CB       0.17      0.89      0.29        18\n",
      "         CDM       0.14      0.07      0.09        30\n",
      "          CF       0.00      0.00      0.00         2\n",
      "          CM       0.22      0.25      0.24        52\n",
      "          LB       0.00      0.00      0.00        13\n",
      "          LM       0.00      0.00      0.00        18\n",
      "          LW       0.00      0.00      0.00         9\n",
      "         LWB       0.00      0.00      0.00         1\n",
      "          RB       0.00      0.00      0.00         8\n",
      "          RM       0.00      0.00      0.00        15\n",
      "          RW       0.00      0.00      0.00         7\n",
      "         RWB       0.00      0.00      0.00         1\n",
      "          ST       0.17      0.24      0.20        21\n",
      "\n",
      "    accuracy                           0.17       214\n",
      "   macro avg       0.05      0.10      0.06       214\n",
      "weighted avg       0.11      0.17      0.11       214\n",
      "\n"
     ]
    },
    {
     "name": "stderr",
     "output_type": "stream",
     "text": [
      "c:\\users\\kamil\\pycharmprojects\\pythonproject2\\venv\\lib\\site-packages\\sklearn\\metrics\\_classification.py:1334: UndefinedMetricWarning: Precision and F-score are ill-defined and being set to 0.0 in labels with no predicted samples. Use `zero_division` parameter to control this behavior.\n",
      "  _warn_prf(average, modifier, msg_start, len(result))\n",
      "c:\\users\\kamil\\pycharmprojects\\pythonproject2\\venv\\lib\\site-packages\\sklearn\\metrics\\_classification.py:1334: UndefinedMetricWarning: Precision and F-score are ill-defined and being set to 0.0 in labels with no predicted samples. Use `zero_division` parameter to control this behavior.\n",
      "  _warn_prf(average, modifier, msg_start, len(result))\n",
      "c:\\users\\kamil\\pycharmprojects\\pythonproject2\\venv\\lib\\site-packages\\sklearn\\metrics\\_classification.py:1334: UndefinedMetricWarning: Precision and F-score are ill-defined and being set to 0.0 in labels with no predicted samples. Use `zero_division` parameter to control this behavior.\n",
      "  _warn_prf(average, modifier, msg_start, len(result))\n"
     ]
    }
   ],
   "source": [
    "# sprawdzenie dokładnoości testu dla konkretnych pozycji\n",
    "from sklearn.metrics import classification_report\n",
    "\n",
    "print(classification_report(y_test, y_pred))"
   ]
  },
  {
   "cell_type": "code",
   "execution_count": 11,
   "id": "acf39a05",
   "metadata": {},
   "outputs": [],
   "source": [
    "#Uczenie dla kart srebrnych i brązowych\n",
    "X  = df_mid.iloc[:,6:12].values\n",
    "y  = df_mid['POSITION'].values\n",
    "X_train, X_test, y_train, y_test = train_test_split(X, y, test_size = 0.7, stratify=y)"
   ]
  },
  {
   "cell_type": "code",
   "execution_count": 12,
   "id": "e7b6464a",
   "metadata": {},
   "outputs": [
    {
     "name": "stdout",
     "output_type": "stream",
     "text": [
      "['ST']\n",
      "['CB']\n"
     ]
    }
   ],
   "source": [
    "# stworzenie instancji modelu i wpasowanie tego modelu do danych trenujących\n",
    "knn = KNeighborsClassifier(n_neighbors=25)\n",
    "knn.fit(X_train, y_train)\n",
    "\n",
    "#Przykładowe wywołanie\n",
    "ronaldo = np.array([[90,90,90,70,30,60]])\n",
    "van_dijk = np.array([[30,30,40,50,90,90]])\n",
    "print(knn.predict(ronaldo))\n",
    "print(knn.predict(van_dijk))"
   ]
  },
  {
   "cell_type": "code",
   "execution_count": 13,
   "id": "43702cf4",
   "metadata": {},
   "outputs": [],
   "source": [
    "from sklearn.preprocessing import StandardScaler\n",
    "\n",
    "#Standaryzacja\n",
    "scaler = StandardScaler()\n",
    "scaler.fit(X)\n",
    "X = scaler.transform(X)\n",
    "X_train, X_test, y_train, y_test = train_test_split(X, y, test_size = 0.15)"
   ]
  },
  {
   "cell_type": "markdown",
   "id": "b6e22dba",
   "metadata": {},
   "source": [
    "Szukamy najlepszego modelu klasyfikującego. Interacyjnie szukamy optymalnego modelu, przechodząc przez 40 sąsiadów \n"
   ]
  },
  {
   "cell_type": "code",
   "execution_count": 14,
   "id": "4e9bdd65",
   "metadata": {},
   "outputs": [
    {
     "name": "stdout",
     "output_type": "stream",
     "text": [
      "Best acc: 0.2117465224111283\n",
      "Best neig: 38\n"
     ]
    }
   ],
   "source": [
    "# przeprowazdenie piewszego testu dokładności\n",
    "n = 40\n",
    "best_acc = 0\n",
    "\n",
    "for i in range(1, n):\n",
    "    knn = KNeighborsClassifier(n_neighbors=i)\n",
    "    knn.fit(X_train, y_train)\n",
    "    y_pred = knn.predict(X_test)\n",
    "    acc = metrics.accuracy_score(y_test, y_pred)\n",
    "    if acc > best_acc:\n",
    "        best_acc = acc\n",
    "        best_nei = i\n",
    "        \n",
    "        \n",
    "print(\"Best acc:\", best_acc)\n",
    "print(\"Best neig:\", best_nei)"
   ]
  },
  {
   "cell_type": "markdown",
   "id": "324ee925",
   "metadata": {},
   "source": [
    "Wylicza dokładność naszego modelu dla wszystkich użytych danych i pozycji."
   ]
  },
  {
   "cell_type": "code",
   "execution_count": 15,
   "id": "10df6fd5",
   "metadata": {},
   "outputs": [
    {
     "name": "stdout",
     "output_type": "stream",
     "text": [
      "0.20865533230293662\n"
     ]
    }
   ],
   "source": [
    "# przeprowazdenie drugiego testu dokładności \n",
    "from sklearn.metrics import accuracy_score, confusion_matrix\n",
    "\n",
    "y_pred = knn.predict(X_test)\n",
    "print(metrics.accuracy_score(y_test, y_pred))"
   ]
  },
  {
   "cell_type": "markdown",
   "id": "a66e7afe",
   "metadata": {},
   "source": [
    "Wylicza dokładność naszego modelu dla poszczególnych pozcyji oraz wszystkich pozycji. "
   ]
  },
  {
   "cell_type": "code",
   "execution_count": 16,
   "id": "b815c5d3",
   "metadata": {},
   "outputs": [
    {
     "name": "stdout",
     "output_type": "stream",
     "text": [
      "              precision    recall  f1-score   support\n",
      "\n",
      "         CAM       0.10      0.01      0.02       100\n",
      "          CB       0.22      0.70      0.34       186\n",
      "         CDM       0.19      0.11      0.14       141\n",
      "          CF       0.00      0.00      0.00        12\n",
      "          CM       0.19      0.26      0.22       224\n",
      "          LB       0.00      0.00      0.00        88\n",
      "          LM       0.09      0.02      0.03        99\n",
      "          LW       0.00      0.00      0.00        46\n",
      "         LWB       0.00      0.00      0.00         9\n",
      "          RB       0.12      0.03      0.04        80\n",
      "          RM       0.00      0.00      0.00       130\n",
      "          RW       0.00      0.00      0.00        36\n",
      "         RWB       0.00      0.00      0.00         5\n",
      "          ST       0.28      0.43      0.34       138\n",
      "\n",
      "    accuracy                           0.21      1294\n",
      "   macro avg       0.08      0.11      0.08      1294\n",
      "weighted avg       0.14      0.21      0.14      1294\n",
      "\n"
     ]
    },
    {
     "name": "stderr",
     "output_type": "stream",
     "text": [
      "c:\\users\\kamil\\pycharmprojects\\pythonproject2\\venv\\lib\\site-packages\\sklearn\\metrics\\_classification.py:1334: UndefinedMetricWarning: Precision and F-score are ill-defined and being set to 0.0 in labels with no predicted samples. Use `zero_division` parameter to control this behavior.\n",
      "  _warn_prf(average, modifier, msg_start, len(result))\n",
      "c:\\users\\kamil\\pycharmprojects\\pythonproject2\\venv\\lib\\site-packages\\sklearn\\metrics\\_classification.py:1334: UndefinedMetricWarning: Precision and F-score are ill-defined and being set to 0.0 in labels with no predicted samples. Use `zero_division` parameter to control this behavior.\n",
      "  _warn_prf(average, modifier, msg_start, len(result))\n",
      "c:\\users\\kamil\\pycharmprojects\\pythonproject2\\venv\\lib\\site-packages\\sklearn\\metrics\\_classification.py:1334: UndefinedMetricWarning: Precision and F-score are ill-defined and being set to 0.0 in labels with no predicted samples. Use `zero_division` parameter to control this behavior.\n",
      "  _warn_prf(average, modifier, msg_start, len(result))\n"
     ]
    }
   ],
   "source": [
    "# sprawdzenie dokładności testu dla konkretnych pozycji\n",
    "from sklearn.metrics import classification_report\n",
    "\n",
    "print(classification_report(y_test, y_pred))"
   ]
  },
  {
   "cell_type": "code",
   "execution_count": 17,
   "id": "ef812654",
   "metadata": {},
   "outputs": [],
   "source": [
    "#Uczenie dla kart icons\n",
    "X  = df_icons.iloc[:,6:12].values\n",
    "y  = df_icons['POSITION'].values\n",
    "X_train, X_test, y_train, y_test = train_test_split(X, y, test_size = 0.7)"
   ]
  },
  {
   "cell_type": "code",
   "execution_count": 18,
   "id": "533b215b",
   "metadata": {},
   "outputs": [
    {
     "name": "stdout",
     "output_type": "stream",
     "text": [
      "['ST']\n",
      "['CAM']\n"
     ]
    }
   ],
   "source": [
    "# stworzenie instancji modelu i wpasowanie tego modelu do danych trenujących\n",
    "knn = KNeighborsClassifier(n_neighbors=25)\n",
    "knn.fit(X_train, y_train)\n",
    "\n",
    "#Przykładowe wywołanie\n",
    "ronaldo = np.array([[90,90,90,70,30,60]])\n",
    "van_dijk = np.array([[30,30,40,50,90,90]])\n",
    "print(knn.predict(ronaldo))\n",
    "print(knn.predict(van_dijk))"
   ]
  },
  {
   "cell_type": "code",
   "execution_count": 19,
   "id": "b1d8f2b2",
   "metadata": {},
   "outputs": [],
   "source": [
    "from sklearn.preprocessing import StandardScaler\n",
    "\n",
    "#Standaryzacja\n",
    "scaler = StandardScaler()\n",
    "scaler.fit(X)\n",
    "X = scaler.transform(X)\n",
    "X_train, X_test, y_train, y_test = train_test_split(X, y, test_size = 0.2)"
   ]
  },
  {
   "cell_type": "markdown",
   "id": "0a5ff945",
   "metadata": {},
   "source": [
    "Szukamy najlepszego modelu klasyfikującego. Interacyjnie szukamy optymalnego modelu, przechodząc przez 40 sąsiadów \n"
   ]
  },
  {
   "cell_type": "code",
   "execution_count": 20,
   "id": "1d5fcc12",
   "metadata": {},
   "outputs": [
    {
     "name": "stdout",
     "output_type": "stream",
     "text": [
      "Best acc: 0.34285714285714286\n",
      "Best neig: 14\n"
     ]
    }
   ],
   "source": [
    "# przeprowazdenie piewszego testu dokładności\n",
    "n = 40\n",
    "best_acc = 0\n",
    "\n",
    "for i in range(1, n):\n",
    "    knn = KNeighborsClassifier(n_neighbors=i)\n",
    "    knn.fit(X_train, y_train)\n",
    "    y_pred = knn.predict(X_test)\n",
    "    acc = metrics.accuracy_score(y_test, y_pred)\n",
    "    if acc > best_acc:\n",
    "        best_acc = acc\n",
    "        best_nei = i\n",
    "        \n",
    "        \n",
    "print(\"Best acc:\", best_acc)\n",
    "print(\"Best neig:\", best_nei)"
   ]
  },
  {
   "cell_type": "markdown",
   "id": "a4fe4b3c",
   "metadata": {},
   "source": [
    "Wylicza dokładność naszego modelu dla wszystkich użytych danych i pozycji."
   ]
  },
  {
   "cell_type": "code",
   "execution_count": 21,
   "id": "ea3c5a02",
   "metadata": {},
   "outputs": [
    {
     "name": "stdout",
     "output_type": "stream",
     "text": [
      "0.22857142857142856\n"
     ]
    }
   ],
   "source": [
    "# przeprowazdenie drugiego testu dokładności \n",
    "from sklearn.metrics import accuracy_score, confusion_matrix\n",
    "\n",
    "y_pred = knn.predict(X_test)\n",
    "print(metrics.accuracy_score(y_test, y_pred))"
   ]
  },
  {
   "cell_type": "markdown",
   "id": "5a54ee87",
   "metadata": {},
   "source": [
    "Wylicza dokładność naszego modelu dla poszczególnych pozcyji oraz wszystkich pozycji."
   ]
  },
  {
   "cell_type": "code",
   "execution_count": 22,
   "id": "f65f1c1b",
   "metadata": {},
   "outputs": [
    {
     "name": "stdout",
     "output_type": "stream",
     "text": [
      "              precision    recall  f1-score   support\n",
      "\n",
      "         CAM       0.00      0.00      0.00         4\n",
      "          CB       0.00      0.00      0.00         3\n",
      "         CDM       0.00      0.00      0.00         2\n",
      "          CF       0.00      0.00      0.00         6\n",
      "          CM       0.50      0.17      0.25         6\n",
      "          LM       0.00      0.00      0.00         1\n",
      "          LW       0.00      0.00      0.00         3\n",
      "          RW       0.00      0.00      0.00         1\n",
      "          ST       0.37      0.78      0.50         9\n",
      "\n",
      "    accuracy                           0.23        35\n",
      "   macro avg       0.10      0.10      0.08        35\n",
      "weighted avg       0.18      0.23      0.17        35\n",
      "\n"
     ]
    },
    {
     "name": "stderr",
     "output_type": "stream",
     "text": [
      "c:\\users\\kamil\\pycharmprojects\\pythonproject2\\venv\\lib\\site-packages\\sklearn\\metrics\\_classification.py:1334: UndefinedMetricWarning: Precision and F-score are ill-defined and being set to 0.0 in labels with no predicted samples. Use `zero_division` parameter to control this behavior.\n",
      "  _warn_prf(average, modifier, msg_start, len(result))\n",
      "c:\\users\\kamil\\pycharmprojects\\pythonproject2\\venv\\lib\\site-packages\\sklearn\\metrics\\_classification.py:1334: UndefinedMetricWarning: Precision and F-score are ill-defined and being set to 0.0 in labels with no predicted samples. Use `zero_division` parameter to control this behavior.\n",
      "  _warn_prf(average, modifier, msg_start, len(result))\n",
      "c:\\users\\kamil\\pycharmprojects\\pythonproject2\\venv\\lib\\site-packages\\sklearn\\metrics\\_classification.py:1334: UndefinedMetricWarning: Precision and F-score are ill-defined and being set to 0.0 in labels with no predicted samples. Use `zero_division` parameter to control this behavior.\n",
      "  _warn_prf(average, modifier, msg_start, len(result))\n"
     ]
    }
   ],
   "source": [
    "# sprawdzenie dokładności testu dla konkretnych pozycji\n",
    "from sklearn.metrics import classification_report\n",
    "\n",
    "print(classification_report(y_test, y_pred))"
   ]
  },
  {
   "cell_type": "markdown",
   "id": "e4603bd4",
   "metadata": {},
   "source": [
    "## Wnioski:"
   ]
  },
  {
   "cell_type": "markdown",
   "id": "8aee37b3",
   "metadata": {},
   "source": [
    "Podsumowując skuteczność tego modelu nie jest zbyt wysoka. Problemem tutaj okazały się dane, myślę że wykonując projekt innym sposobem klasyfikacji rezultat byłby podobny. Pomimo zastosowania różnych technik filtracji oraz dzielenia dane na podgrupy, skuteczność nie zwiększyła się znacząco. Dla lepszego zrozumienia problematyki danych, podam przykład. Napastników cechuje wyższa niż reszta atrybutów ocena strzałów, oraz zazwyczaj dużą szybkość biegu. Jednakże, zdarzają się tacy napastnicy którzy tej szybkości biegu mają relatywnie mało. Takie dane psują mocno klasyfikację. Problemem jest nawet wyfiltrować je, ponieważ warto też zauważyć, że piłkarze są różni i grając na tej samej pozycji mogą mieć różne zadania na boisku oraz mogą być innej charakterystyki, co wpływa także na ich odzwierciedlenie statystyk w FIFIE. "
   ]
  },
  {
   "cell_type": "code",
   "execution_count": null,
   "id": "787c9fa5",
   "metadata": {},
   "outputs": [],
   "source": []
  }
 ],
 "metadata": {
  "kernelspec": {
   "display_name": "Python 3 (ipykernel)",
   "language": "python",
   "name": "python3"
  },
  "language_info": {
   "codemirror_mode": {
    "name": "ipython",
    "version": 3
   },
   "file_extension": ".py",
   "mimetype": "text/x-python",
   "name": "python",
   "nbconvert_exporter": "python",
   "pygments_lexer": "ipython3",
   "version": "3.9.13"
  },
  "vscode": {
   "interpreter": {
    "hash": "67ffad3a36718c0dfacc72d6cb7c204a2a046902041a66452ca7ba4d96219fca"
   }
  }
 },
 "nbformat": 4,
 "nbformat_minor": 5
}
